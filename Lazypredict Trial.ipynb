{
 "cells": [
  {
   "cell_type": "code",
   "execution_count": 20,
   "metadata": {},
   "outputs": [
    {
     "name": "stderr",
     "output_type": "stream",
     "text": [
      "100%|██████████████████████████████████████████████████████████████████████████████████| 29/29 [00:00<00:00, 45.75it/s]"
     ]
    },
    {
     "name": "stdout",
     "output_type": "stream",
     "text": [
      "                               Accuracy  Balanced Accuracy  ROC AUC  F1 Score  \\\n",
      "Model                                                                           \n",
      "BernoulliNB                        0.99               0.99     0.99      0.99   \n",
      "SVC                                0.99               0.99     0.99      0.99   \n",
      "Perceptron                         0.99               0.99     0.99      0.99   \n",
      "NuSVC                              0.99               0.99     0.99      0.99   \n",
      "QuadraticDiscriminantAnalysis      0.99               0.99     0.99      0.99   \n",
      "SGDClassifier                      0.99               0.98     0.98      0.99   \n",
      "GaussianNB                         0.98               0.98     0.98      0.98   \n",
      "LinearSVC                          0.98               0.97     0.97      0.98   \n",
      "LogisticRegression                 0.98               0.97     0.97      0.98   \n",
      "CalibratedClassifierCV             0.98               0.97     0.97      0.98   \n",
      "ExtraTreesClassifier               0.98               0.97     0.97      0.98   \n",
      "XGBClassifier                      0.97               0.96     0.96      0.97   \n",
      "NearestCentroid                    0.97               0.96     0.96      0.97   \n",
      "AdaBoostClassifier                 0.97               0.96     0.96      0.97   \n",
      "LabelSpreading                     0.96               0.96     0.96      0.96   \n",
      "LabelPropagation                   0.96               0.96     0.96      0.96   \n",
      "KNeighborsClassifier               0.96               0.96     0.96      0.96   \n",
      "ExtraTreeClassifier                0.96               0.96     0.96      0.96   \n",
      "LGBMClassifier                     0.96               0.96     0.96      0.96   \n",
      "PassiveAggressiveClassifier        0.96               0.95     0.95      0.96   \n",
      "RandomForestClassifier             0.96               0.95     0.95      0.96   \n",
      "LinearDiscriminantAnalysis         0.96               0.95     0.95      0.96   \n",
      "RidgeClassifier                    0.95               0.94     0.94      0.95   \n",
      "RidgeClassifierCV                  0.95               0.94     0.94      0.95   \n",
      "BaggingClassifier                  0.94               0.92     0.92      0.93   \n",
      "DecisionTreeClassifier             0.94               0.92     0.92      0.93   \n",
      "DummyClassifier                    0.53               0.49     0.49      0.52   \n",
      "\n",
      "                               Time Taken  \n",
      "Model                                      \n",
      "BernoulliNB                          0.01  \n",
      "SVC                                  0.01  \n",
      "Perceptron                           0.01  \n",
      "NuSVC                                0.01  \n",
      "QuadraticDiscriminantAnalysis        0.01  \n",
      "SGDClassifier                        0.01  \n",
      "GaussianNB                           0.01  \n",
      "LinearSVC                            0.01  \n",
      "LogisticRegression                   0.01  \n",
      "CalibratedClassifierCV               0.03  \n",
      "ExtraTreesClassifier                 0.09  \n",
      "XGBClassifier                        0.03  \n",
      "NearestCentroid                      0.01  \n",
      "AdaBoostClassifier                   0.07  \n",
      "LabelSpreading                       0.02  \n",
      "LabelPropagation                     0.02  \n",
      "KNeighborsClassifier                 0.02  \n",
      "ExtraTreeClassifier                  0.01  \n",
      "LGBMClassifier                       0.04  \n",
      "PassiveAggressiveClassifier          0.01  \n",
      "RandomForestClassifier               0.12  \n",
      "LinearDiscriminantAnalysis           0.01  \n",
      "RidgeClassifier                      0.01  \n",
      "RidgeClassifierCV                    0.01  \n",
      "BaggingClassifier                    0.03  \n",
      "DecisionTreeClassifier               0.01  \n",
      "DummyClassifier                      0.01  \n"
     ]
    },
    {
     "name": "stderr",
     "output_type": "stream",
     "text": [
      "\n"
     ]
    }
   ],
   "source": [
    "import pandas as pd\n",
    "from lazypredict.Supervised import LazyClassifier\n",
    "from sklearn.model_selection import train_test_split\n",
    "\n",
    "df = pd.read_csv('data.csv')\n",
    "X = df.drop(columns=['Type']).values\n",
    "y = df['Type'].values\n",
    "\n",
    "X_train, X_test, y_train, y_test = train_test_split(\n",
    "    X, y, test_size=.2, random_state=123)\n",
    "\n",
    "clf = LazyClassifier(verbose=0, ignore_warnings=True, custom_metric=None)\n",
    "models, predictions = clf.fit(X_train, X_test, y_train, y_test)\n",
    "\n",
    "print(models)"
   ]
  },
  {
   "cell_type": "code",
   "execution_count": null,
   "metadata": {},
   "outputs": [],
   "source": []
  }
 ],
 "metadata": {
  "kernelspec": {
   "display_name": "Python 3",
   "language": "python",
   "name": "python3"
  },
  "language_info": {
   "codemirror_mode": {
    "name": "ipython",
    "version": 3
   },
   "file_extension": ".py",
   "mimetype": "text/x-python",
   "name": "python",
   "nbconvert_exporter": "python",
   "pygments_lexer": "ipython3",
   "version": "3.8.5"
  }
 },
 "nbformat": 4,
 "nbformat_minor": 4
}
